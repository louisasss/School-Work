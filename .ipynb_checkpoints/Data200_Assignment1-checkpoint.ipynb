{
 "cells": [
  {
   "cell_type": "code",
   "execution_count": 42,
   "id": "00ff4679-f574-4408-961a-6191697eb8ec",
   "metadata": {
    "editable": true,
    "slideshow": {
     "slide_type": ""
    },
    "tags": []
   },
   "outputs": [
    {
     "name": "stdin",
     "output_type": "stream",
     "text": [
      "Enter user type (1 for Admin, 2 for Customer): 2\n"
     ]
    },
    {
     "name": "stdout",
     "output_type": "stream",
     "text": [
      "User is: 2 - Customer\n",
      "\n",
      "\n"
     ]
    },
    {
     "name": "stdin",
     "output_type": "stream",
     "text": [
      "Please enter the electronic type you would like to review (SamSung TV or Hitachi AC): SamSung TV\n",
      "Please enter your rating of SamSung TV on a scale of 1= Very bad, 2= Bad, 3= Average, 4=Good and 5=very good 3\n"
     ]
    },
    {
     "name": "stdout",
     "output_type": "stream",
     "text": [
      "You provided a feedback rating of: 3, for the electronic: SamSung TV\n"
     ]
    }
   ],
   "source": [
    "\"\"\"\n",
    "Current Problems:\n",
    "- product feeback not stored collectively, when you run code twice, the review from the first run doesn't store in the second run\n",
    "- same problem for login attempts\n",
    "- need to add function to allow admin user to add or delete items from inventory\n",
    "\"\"\"\n",
    "\n",
    "\n",
    "#Create variable 'user' that stores integer value for user type\n",
    "user = int(input(\"Enter user type (1 for Admin, 2 for Customer):\"))\n",
    "\n",
    "#Verify the type of user\n",
    "if user == 1:\n",
    "    usertype = \"1 - Admin\"\n",
    "    print(\"User is: \" + usertype)\n",
    "elif user == 2:\n",
    "    usertype = \"2 - Customer\"\n",
    "    print(\"User is: \" + usertype)\n",
    "else: \n",
    "    print(\"Error - no user type found\")\n",
    "\n",
    "print()\n",
    "\n",
    "#Store correct adminID\n",
    "adminID = int(1234)\n",
    "successfulAttempts = 0\n",
    "failedAttempts = \n",
    "samsungReview = 0\n",
    "hitachiReview = 0\n",
    "samsungInventory = 30\n",
    "hitachiInventory = 40\n",
    "\n",
    "#Prompt Admin login screen or Customer screen depending on user type\n",
    "if user == 1:\n",
    "    inputID = int(input(\"Please enter the admin id:\"))\n",
    "    #Correct admin ID proceeds to view admin screen\n",
    "    #Incorrect admin ID prompts error\n",
    "    if inputID == adminID:\n",
    "        successfulAttempts += 1\n",
    "        print()\n",
    "        print(\"Login Successful!\")\n",
    "        print(f\"Failed Logins: {failedAttempts}\")\n",
    "        print(f\"Successful Logins: {successfulAttempts}\")\n",
    "        print()\n",
    "        print(\"Product Feedback:\")\n",
    "        print(f\"SamSung TV: {samsungReview}\")\n",
    "        print(f\"Hitachi AC: {hitachiReview}\")\n",
    "        print()\n",
    "        print(\"Product Inventory:\")\n",
    "        print(f\"SamSung TV: {samsungInventory}\")\n",
    "        print(f\"Hitachi AC: {hitachiInventory}\")\n",
    "    else:\n",
    "        failedAttempts += 1\n",
    "        print()\n",
    "        print(\"Login Failed!\")\n",
    "#Allow customer to enter electronic they want to review\n",
    "elif user == 2:\n",
    "    print()\n",
    "    electronicType = input(\"Please enter the electronic type you would like to review (SamSung TV or Hitachi AC):\")\n",
    "    #accept customer input for review\n",
    "    if electronicType == \"SamSung TV\":\n",
    "        review = int(input(f\"Please enter your rating of {electronicType} on a scale of 1= Very bad, 2= Bad, 3= Average, 4=Good and 5=very good\"))\n",
    "        samsungReview = samsungReview + review\n",
    "        print(f\"You provided a feedback rating of: {review}, for the electronic: {electronicType}\")\n",
    "    elif electronicType == \"Hitachi AC\":\n",
    "        review = int(input(f\"Please enter your rating of {electronicType} on a scale of 1= Very bad, 2= Bad, 3= Average, 4=Good and 5=very good\"))\n",
    "        hitachiReview = hitachiReview + review\n",
    "        print(f\"You provided a feedback rating of: {review}, for the electronic: {electronicType}\")\n",
    "    else:\n",
    "        print(f\"Error - no electronic \\\"{electronicType}\\\" found\")\n",
    "\n",
    "    "
   ]
  },
  {
   "cell_type": "code",
   "execution_count": null,
   "id": "742abd4e-755c-4b95-9b01-769a019597b7",
   "metadata": {
    "editable": true,
    "slideshow": {
     "slide_type": ""
    },
    "tags": []
   },
   "outputs": [],
   "source": []
  }
 ],
 "metadata": {
  "kernelspec": {
   "display_name": "Python [conda env:base] *",
   "language": "python",
   "name": "conda-base-py"
  },
  "language_info": {
   "codemirror_mode": {
    "name": "ipython",
    "version": 3
   },
   "file_extension": ".py",
   "mimetype": "text/x-python",
   "name": "python",
   "nbconvert_exporter": "python",
   "pygments_lexer": "ipython3",
   "version": "3.12.7"
  }
 },
 "nbformat": 4,
 "nbformat_minor": 5
}
